{
  "cells": [
    {
      "cell_type": "markdown",
      "metadata": {},
      "source": [
        "[Access this notebook on Colab here.](https://colab.research.google.com/drive/1i9DnoZ4xEduoQ7dyURPWHohB8ffzrOg5?usp=sharing)"
      ]
    },
    {
      "cell_type": "code",
      "execution_count": null,
      "metadata": {
        "id": "GfTi_wjDKROt"
      },
      "outputs": [],
      "source": [
        "pip install faiss-cpu langchain_openai langchain_community"
      ]
    },
    {
      "cell_type": "code",
      "execution_count": null,
      "metadata": {
        "id": "6UiQgR95KP90"
      },
      "outputs": [],
      "source": [
        "from langchain_openai import OpenAIEmbeddings\n",
        "from langchain_community.vectorstores.faiss import FAISS\n",
        "from langchain.schema.document import Document\n",
        "import os\n",
        "\n",
        "# Initialize the embeddings class\n",
        "embeddings = OpenAIEmbeddings(model=\"text-embedding-3-large\", openai_api_key= \"secret key\")\n",
        "\n",
        "# Embed a single query\n",
        "query = \"Hello, world!\"\n",
        "vector = embeddings.embed_query(query)\n",
        "print(vector[:5])\n"
      ]
    },
    {
      "cell_type": "code",
      "execution_count": null,
      "metadata": {
        "id": "HTa6Z1DSKyrP"
      },
      "outputs": [],
      "source": [
        "\n",
        "# Embed multiple documents at once\n",
        "documents = [\"Alice works in finance\", \"Bob is a database administrator\", \"Carl manages Bob and Alice\"]\n",
        "\n",
        "# Convert the list of strings to a list of Document objects\n",
        "document_objects = [Document(page_content=doc) for doc in documents]\n",
        "\n",
        "# Embed the Document objects\n",
        "vectors = embeddings.embed_documents([doc.page_content for doc in document_objects])\n",
        "print(len(vectors), len(vectors[0]))\n"
      ]
    },
    {
      "cell_type": "code",
      "execution_count": null,
      "metadata": {
        "id": "O1779ka_Lfbw"
      },
      "outputs": [],
      "source": [
        "\n",
        "# Initialize the FAISS database with the Document objects and embeddings\n",
        "db = FAISS.from_documents(document_objects, embeddings)\n",
        "\n",
        "query = \"Tell me about Alice\"\n",
        "docs = db.similarity_search(query)\n",
        "\n",
        "# Perform a similarity search with scores\n",
        "docs_and_scores = db.similarity_search_with_score(query)\n",
        "print(docs_and_scores)\n"
      ]
    }
  ],
  "metadata": {
    "colab": {
      "provenance": []
    },
    "kernelspec": {
      "display_name": "Python 3",
      "name": "python3"
    },
    "language_info": {
      "name": "python"
    }
  },
  "nbformat": 4,
  "nbformat_minor": 0
}
